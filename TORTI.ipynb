{
 "cells": [
  {
   "cell_type": "code",
   "execution_count": 248,
   "metadata": {},
   "outputs": [],
   "source": [
    "import pandas as pd\n",
    "\n",
    "df= pd.read_csv(\"C:/Users/anace/OneDrive/Escritorio/data_sets/tortilla_prices.csv\")\n"
   ]
  },
  {
   "cell_type": "code",
   "execution_count": 249,
   "metadata": {},
   "outputs": [
    {
     "data": {
      "text/html": [
       "<div>\n",
       "<style scoped>\n",
       "    .dataframe tbody tr th:only-of-type {\n",
       "        vertical-align: middle;\n",
       "    }\n",
       "\n",
       "    .dataframe tbody tr th {\n",
       "        vertical-align: top;\n",
       "    }\n",
       "\n",
       "    .dataframe thead th {\n",
       "        text-align: right;\n",
       "    }\n",
       "</style>\n",
       "<table border=\"1\" class=\"dataframe\">\n",
       "  <thead>\n",
       "    <tr style=\"text-align: right;\">\n",
       "      <th></th>\n",
       "      <th>State</th>\n",
       "      <th>City</th>\n",
       "      <th>Year</th>\n",
       "      <th>Month</th>\n",
       "      <th>Day</th>\n",
       "      <th>Store type</th>\n",
       "      <th>Price per kilogram</th>\n",
       "    </tr>\n",
       "  </thead>\n",
       "  <tbody>\n",
       "    <tr>\n",
       "      <th>0</th>\n",
       "      <td>Aguascalientes</td>\n",
       "      <td>Aguascalientes</td>\n",
       "      <td>2007</td>\n",
       "      <td>1</td>\n",
       "      <td>10</td>\n",
       "      <td>Mom and Pop Store</td>\n",
       "      <td>9.9</td>\n",
       "    </tr>\n",
       "    <tr>\n",
       "      <th>1</th>\n",
       "      <td>Baja California</td>\n",
       "      <td>Mexicali</td>\n",
       "      <td>2007</td>\n",
       "      <td>1</td>\n",
       "      <td>10</td>\n",
       "      <td>Mom and Pop Store</td>\n",
       "      <td>NaN</td>\n",
       "    </tr>\n",
       "    <tr>\n",
       "      <th>2</th>\n",
       "      <td>Baja California</td>\n",
       "      <td>Tijuana</td>\n",
       "      <td>2007</td>\n",
       "      <td>1</td>\n",
       "      <td>10</td>\n",
       "      <td>Mom and Pop Store</td>\n",
       "      <td>10.0</td>\n",
       "    </tr>\n",
       "    <tr>\n",
       "      <th>3</th>\n",
       "      <td>Baja California Sur</td>\n",
       "      <td>La Paz</td>\n",
       "      <td>2007</td>\n",
       "      <td>1</td>\n",
       "      <td>10</td>\n",
       "      <td>Mom and Pop Store</td>\n",
       "      <td>10.0</td>\n",
       "    </tr>\n",
       "    <tr>\n",
       "      <th>4</th>\n",
       "      <td>Campeche</td>\n",
       "      <td>Campeche</td>\n",
       "      <td>2007</td>\n",
       "      <td>1</td>\n",
       "      <td>10</td>\n",
       "      <td>Mom and Pop Store</td>\n",
       "      <td>10.0</td>\n",
       "    </tr>\n",
       "  </tbody>\n",
       "</table>\n",
       "</div>"
      ],
      "text/plain": [
       "                 State            City  Year  Month  Day         Store type  \\\n",
       "0       Aguascalientes  Aguascalientes  2007      1   10  Mom and Pop Store   \n",
       "1      Baja California        Mexicali  2007      1   10  Mom and Pop Store   \n",
       "2      Baja California         Tijuana  2007      1   10  Mom and Pop Store   \n",
       "3  Baja California Sur          La Paz  2007      1   10  Mom and Pop Store   \n",
       "4             Campeche        Campeche  2007      1   10  Mom and Pop Store   \n",
       "\n",
       "   Price per kilogram  \n",
       "0                 9.9  \n",
       "1                 NaN  \n",
       "2                10.0  \n",
       "3                10.0  \n",
       "4                10.0  "
      ]
     },
     "execution_count": 249,
     "metadata": {},
     "output_type": "execute_result"
    }
   ],
   "source": [
    "df.head()"
   ]
  },
  {
   "cell_type": "code",
   "execution_count": 250,
   "metadata": {},
   "outputs": [
    {
     "data": {
      "text/html": [
       "<div>\n",
       "<style scoped>\n",
       "    .dataframe tbody tr th:only-of-type {\n",
       "        vertical-align: middle;\n",
       "    }\n",
       "\n",
       "    .dataframe tbody tr th {\n",
       "        vertical-align: top;\n",
       "    }\n",
       "\n",
       "    .dataframe thead th {\n",
       "        text-align: right;\n",
       "    }\n",
       "</style>\n",
       "<table border=\"1\" class=\"dataframe\">\n",
       "  <thead>\n",
       "    <tr style=\"text-align: right;\">\n",
       "      <th></th>\n",
       "      <th>State</th>\n",
       "      <th>City</th>\n",
       "      <th>Year</th>\n",
       "      <th>Month</th>\n",
       "      <th>Day</th>\n",
       "      <th>Store type</th>\n",
       "      <th>Price per kilogram</th>\n",
       "    </tr>\n",
       "  </thead>\n",
       "  <tbody>\n",
       "    <tr>\n",
       "      <th>289141</th>\n",
       "      <td>Veracruz</td>\n",
       "      <td>Coatzacoalcos</td>\n",
       "      <td>2024</td>\n",
       "      <td>10</td>\n",
       "      <td>21</td>\n",
       "      <td>Big Retail Store</td>\n",
       "      <td>12.57</td>\n",
       "    </tr>\n",
       "    <tr>\n",
       "      <th>289142</th>\n",
       "      <td>Veracruz</td>\n",
       "      <td>Veracruz</td>\n",
       "      <td>2024</td>\n",
       "      <td>10</td>\n",
       "      <td>21</td>\n",
       "      <td>Big Retail Store</td>\n",
       "      <td>13.27</td>\n",
       "    </tr>\n",
       "    <tr>\n",
       "      <th>289143</th>\n",
       "      <td>Veracruz</td>\n",
       "      <td>Xalapa</td>\n",
       "      <td>2024</td>\n",
       "      <td>10</td>\n",
       "      <td>21</td>\n",
       "      <td>Big Retail Store</td>\n",
       "      <td>13.73</td>\n",
       "    </tr>\n",
       "    <tr>\n",
       "      <th>289144</th>\n",
       "      <td>Yucatán</td>\n",
       "      <td>Mérida</td>\n",
       "      <td>2024</td>\n",
       "      <td>10</td>\n",
       "      <td>21</td>\n",
       "      <td>Big Retail Store</td>\n",
       "      <td>13.13</td>\n",
       "    </tr>\n",
       "    <tr>\n",
       "      <th>289145</th>\n",
       "      <td>Zacatecas</td>\n",
       "      <td>Zacatecas</td>\n",
       "      <td>2024</td>\n",
       "      <td>10</td>\n",
       "      <td>21</td>\n",
       "      <td>Big Retail Store</td>\n",
       "      <td>13.28</td>\n",
       "    </tr>\n",
       "  </tbody>\n",
       "</table>\n",
       "</div>"
      ],
      "text/plain": [
       "            State           City  Year  Month  Day        Store type  \\\n",
       "289141   Veracruz  Coatzacoalcos  2024     10   21  Big Retail Store   \n",
       "289142   Veracruz       Veracruz  2024     10   21  Big Retail Store   \n",
       "289143   Veracruz         Xalapa  2024     10   21  Big Retail Store   \n",
       "289144    Yucatán         Mérida  2024     10   21  Big Retail Store   \n",
       "289145  Zacatecas      Zacatecas  2024     10   21  Big Retail Store   \n",
       "\n",
       "        Price per kilogram  \n",
       "289141               12.57  \n",
       "289142               13.27  \n",
       "289143               13.73  \n",
       "289144               13.13  \n",
       "289145               13.28  "
      ]
     },
     "execution_count": 250,
     "metadata": {},
     "output_type": "execute_result"
    }
   ],
   "source": [
    "df.tail()"
   ]
  },
  {
   "cell_type": "code",
   "execution_count": 251,
   "metadata": {},
   "outputs": [
    {
     "name": "stdout",
     "output_type": "stream",
     "text": [
      "<class 'pandas.core.frame.DataFrame'>\n",
      "RangeIndex: 289146 entries, 0 to 289145\n",
      "Data columns (total 7 columns):\n",
      " #   Column              Non-Null Count   Dtype  \n",
      "---  ------              --------------   -----  \n",
      " 0   State               289146 non-null  object \n",
      " 1   City                289146 non-null  object \n",
      " 2   Year                289146 non-null  int64  \n",
      " 3   Month               289146 non-null  int64  \n",
      " 4   Day                 289146 non-null  int64  \n",
      " 5   Store type          289146 non-null  object \n",
      " 6   Price per kilogram  282756 non-null  float64\n",
      "dtypes: float64(1), int64(3), object(3)\n",
      "memory usage: 15.4+ MB\n"
     ]
    }
   ],
   "source": [
    "df.info()\n",
    "\n",
    "#Price per kilogram  282756 non-null,= 6390 missing  289146\n",
    "\n"
   ]
  },
  {
   "cell_type": "code",
   "execution_count": 252,
   "metadata": {},
   "outputs": [],
   "source": [
    "missing_values= df.isnull().sum()\n",
    "\n"
   ]
  },
  {
   "cell_type": "code",
   "execution_count": 253,
   "metadata": {},
   "outputs": [
    {
     "data": {
      "text/html": [
       "<div>\n",
       "<style scoped>\n",
       "    .dataframe tbody tr th:only-of-type {\n",
       "        vertical-align: middle;\n",
       "    }\n",
       "\n",
       "    .dataframe tbody tr th {\n",
       "        vertical-align: top;\n",
       "    }\n",
       "\n",
       "    .dataframe thead th {\n",
       "        text-align: right;\n",
       "    }\n",
       "</style>\n",
       "<table border=\"1\" class=\"dataframe\">\n",
       "  <thead>\n",
       "    <tr style=\"text-align: right;\">\n",
       "      <th></th>\n",
       "      <th>State</th>\n",
       "      <th>City</th>\n",
       "      <th>Year</th>\n",
       "      <th>Month</th>\n",
       "      <th>Day</th>\n",
       "      <th>Store type</th>\n",
       "      <th>Price per kilogram</th>\n",
       "    </tr>\n",
       "  </thead>\n",
       "  <tbody>\n",
       "    <tr>\n",
       "      <th>0</th>\n",
       "      <td>False</td>\n",
       "      <td>False</td>\n",
       "      <td>False</td>\n",
       "      <td>False</td>\n",
       "      <td>False</td>\n",
       "      <td>False</td>\n",
       "      <td>False</td>\n",
       "    </tr>\n",
       "    <tr>\n",
       "      <th>1</th>\n",
       "      <td>False</td>\n",
       "      <td>False</td>\n",
       "      <td>False</td>\n",
       "      <td>False</td>\n",
       "      <td>False</td>\n",
       "      <td>False</td>\n",
       "      <td>True</td>\n",
       "    </tr>\n",
       "    <tr>\n",
       "      <th>2</th>\n",
       "      <td>False</td>\n",
       "      <td>False</td>\n",
       "      <td>False</td>\n",
       "      <td>False</td>\n",
       "      <td>False</td>\n",
       "      <td>False</td>\n",
       "      <td>False</td>\n",
       "    </tr>\n",
       "    <tr>\n",
       "      <th>3</th>\n",
       "      <td>False</td>\n",
       "      <td>False</td>\n",
       "      <td>False</td>\n",
       "      <td>False</td>\n",
       "      <td>False</td>\n",
       "      <td>False</td>\n",
       "      <td>False</td>\n",
       "    </tr>\n",
       "    <tr>\n",
       "      <th>4</th>\n",
       "      <td>False</td>\n",
       "      <td>False</td>\n",
       "      <td>False</td>\n",
       "      <td>False</td>\n",
       "      <td>False</td>\n",
       "      <td>False</td>\n",
       "      <td>False</td>\n",
       "    </tr>\n",
       "    <tr>\n",
       "      <th>...</th>\n",
       "      <td>...</td>\n",
       "      <td>...</td>\n",
       "      <td>...</td>\n",
       "      <td>...</td>\n",
       "      <td>...</td>\n",
       "      <td>...</td>\n",
       "      <td>...</td>\n",
       "    </tr>\n",
       "    <tr>\n",
       "      <th>289141</th>\n",
       "      <td>False</td>\n",
       "      <td>False</td>\n",
       "      <td>False</td>\n",
       "      <td>False</td>\n",
       "      <td>False</td>\n",
       "      <td>False</td>\n",
       "      <td>False</td>\n",
       "    </tr>\n",
       "    <tr>\n",
       "      <th>289142</th>\n",
       "      <td>False</td>\n",
       "      <td>False</td>\n",
       "      <td>False</td>\n",
       "      <td>False</td>\n",
       "      <td>False</td>\n",
       "      <td>False</td>\n",
       "      <td>False</td>\n",
       "    </tr>\n",
       "    <tr>\n",
       "      <th>289143</th>\n",
       "      <td>False</td>\n",
       "      <td>False</td>\n",
       "      <td>False</td>\n",
       "      <td>False</td>\n",
       "      <td>False</td>\n",
       "      <td>False</td>\n",
       "      <td>False</td>\n",
       "    </tr>\n",
       "    <tr>\n",
       "      <th>289144</th>\n",
       "      <td>False</td>\n",
       "      <td>False</td>\n",
       "      <td>False</td>\n",
       "      <td>False</td>\n",
       "      <td>False</td>\n",
       "      <td>False</td>\n",
       "      <td>False</td>\n",
       "    </tr>\n",
       "    <tr>\n",
       "      <th>289145</th>\n",
       "      <td>False</td>\n",
       "      <td>False</td>\n",
       "      <td>False</td>\n",
       "      <td>False</td>\n",
       "      <td>False</td>\n",
       "      <td>False</td>\n",
       "      <td>False</td>\n",
       "    </tr>\n",
       "  </tbody>\n",
       "</table>\n",
       "<p>289146 rows × 7 columns</p>\n",
       "</div>"
      ],
      "text/plain": [
       "        State   City   Year  Month    Day  Store type  Price per kilogram\n",
       "0       False  False  False  False  False       False               False\n",
       "1       False  False  False  False  False       False                True\n",
       "2       False  False  False  False  False       False               False\n",
       "3       False  False  False  False  False       False               False\n",
       "4       False  False  False  False  False       False               False\n",
       "...       ...    ...    ...    ...    ...         ...                 ...\n",
       "289141  False  False  False  False  False       False               False\n",
       "289142  False  False  False  False  False       False               False\n",
       "289143  False  False  False  False  False       False               False\n",
       "289144  False  False  False  False  False       False               False\n",
       "289145  False  False  False  False  False       False               False\n",
       "\n",
       "[289146 rows x 7 columns]"
      ]
     },
     "execution_count": 253,
     "metadata": {},
     "output_type": "execute_result"
    }
   ],
   "source": [
    "df.isnull()"
   ]
  },
  {
   "cell_type": "code",
   "execution_count": 254,
   "metadata": {},
   "outputs": [
    {
     "data": {
      "text/html": [
       "<div>\n",
       "<style scoped>\n",
       "    .dataframe tbody tr th:only-of-type {\n",
       "        vertical-align: middle;\n",
       "    }\n",
       "\n",
       "    .dataframe tbody tr th {\n",
       "        vertical-align: top;\n",
       "    }\n",
       "\n",
       "    .dataframe thead th {\n",
       "        text-align: right;\n",
       "    }\n",
       "</style>\n",
       "<table border=\"1\" class=\"dataframe\">\n",
       "  <thead>\n",
       "    <tr style=\"text-align: right;\">\n",
       "      <th></th>\n",
       "      <th>State</th>\n",
       "      <th>City</th>\n",
       "      <th>Year</th>\n",
       "      <th>Month</th>\n",
       "      <th>Day</th>\n",
       "      <th>Price per kilogram</th>\n",
       "    </tr>\n",
       "  </thead>\n",
       "  <tbody>\n",
       "    <tr>\n",
       "      <th>0</th>\n",
       "      <td>Aguascalientes</td>\n",
       "      <td>Aguascalientes</td>\n",
       "      <td>2007</td>\n",
       "      <td>1</td>\n",
       "      <td>10</td>\n",
       "      <td>7.865</td>\n",
       "    </tr>\n",
       "    <tr>\n",
       "      <th>1</th>\n",
       "      <td>Aguascalientes</td>\n",
       "      <td>Aguascalientes</td>\n",
       "      <td>2007</td>\n",
       "      <td>1</td>\n",
       "      <td>12</td>\n",
       "      <td>7.865</td>\n",
       "    </tr>\n",
       "    <tr>\n",
       "      <th>2</th>\n",
       "      <td>Aguascalientes</td>\n",
       "      <td>Aguascalientes</td>\n",
       "      <td>2007</td>\n",
       "      <td>1</td>\n",
       "      <td>15</td>\n",
       "      <td>7.865</td>\n",
       "    </tr>\n",
       "    <tr>\n",
       "      <th>3</th>\n",
       "      <td>Aguascalientes</td>\n",
       "      <td>Aguascalientes</td>\n",
       "      <td>2007</td>\n",
       "      <td>1</td>\n",
       "      <td>16</td>\n",
       "      <td>7.865</td>\n",
       "    </tr>\n",
       "    <tr>\n",
       "      <th>4</th>\n",
       "      <td>Aguascalientes</td>\n",
       "      <td>Aguascalientes</td>\n",
       "      <td>2007</td>\n",
       "      <td>1</td>\n",
       "      <td>17</td>\n",
       "      <td>7.865</td>\n",
       "    </tr>\n",
       "    <tr>\n",
       "      <th>...</th>\n",
       "      <td>...</td>\n",
       "      <td>...</td>\n",
       "      <td>...</td>\n",
       "      <td>...</td>\n",
       "      <td>...</td>\n",
       "      <td>...</td>\n",
       "    </tr>\n",
       "    <tr>\n",
       "      <th>145254</th>\n",
       "      <td>Zacatecas</td>\n",
       "      <td>Zacatecas</td>\n",
       "      <td>2024</td>\n",
       "      <td>10</td>\n",
       "      <td>11</td>\n",
       "      <td>17.640</td>\n",
       "    </tr>\n",
       "    <tr>\n",
       "      <th>145255</th>\n",
       "      <td>Zacatecas</td>\n",
       "      <td>Zacatecas</td>\n",
       "      <td>2024</td>\n",
       "      <td>10</td>\n",
       "      <td>14</td>\n",
       "      <td>17.640</td>\n",
       "    </tr>\n",
       "    <tr>\n",
       "      <th>145256</th>\n",
       "      <td>Zacatecas</td>\n",
       "      <td>Zacatecas</td>\n",
       "      <td>2024</td>\n",
       "      <td>10</td>\n",
       "      <td>16</td>\n",
       "      <td>17.640</td>\n",
       "    </tr>\n",
       "    <tr>\n",
       "      <th>145257</th>\n",
       "      <td>Zacatecas</td>\n",
       "      <td>Zacatecas</td>\n",
       "      <td>2024</td>\n",
       "      <td>10</td>\n",
       "      <td>18</td>\n",
       "      <td>17.640</td>\n",
       "    </tr>\n",
       "    <tr>\n",
       "      <th>145258</th>\n",
       "      <td>Zacatecas</td>\n",
       "      <td>Zacatecas</td>\n",
       "      <td>2024</td>\n",
       "      <td>10</td>\n",
       "      <td>21</td>\n",
       "      <td>17.640</td>\n",
       "    </tr>\n",
       "  </tbody>\n",
       "</table>\n",
       "<p>145259 rows × 6 columns</p>\n",
       "</div>"
      ],
      "text/plain": [
       "                 State            City  Year  Month  Day  Price per kilogram\n",
       "0       Aguascalientes  Aguascalientes  2007      1   10               7.865\n",
       "1       Aguascalientes  Aguascalientes  2007      1   12               7.865\n",
       "2       Aguascalientes  Aguascalientes  2007      1   15               7.865\n",
       "3       Aguascalientes  Aguascalientes  2007      1   16               7.865\n",
       "4       Aguascalientes  Aguascalientes  2007      1   17               7.865\n",
       "...                ...             ...   ...    ...  ...                 ...\n",
       "145254       Zacatecas       Zacatecas  2024     10   11              17.640\n",
       "145255       Zacatecas       Zacatecas  2024     10   14              17.640\n",
       "145256       Zacatecas       Zacatecas  2024     10   16              17.640\n",
       "145257       Zacatecas       Zacatecas  2024     10   18              17.640\n",
       "145258       Zacatecas       Zacatecas  2024     10   21              17.640\n",
       "\n",
       "[145259 rows x 6 columns]"
      ]
     },
     "execution_count": 254,
     "metadata": {},
     "output_type": "execute_result"
    }
   ],
   "source": [
    "mean_bygroup = df.groupby([\"State\", \"City\", \"Year\", \"Month\", \"Day\"])[\"Price per kilogram\"].mean().reset_index()\n",
    "mean_bygroup\n",
    "\n",
    "#this was made to see if the means are similar to interpolate"
   ]
  },
  {
   "cell_type": "code",
   "execution_count": 255,
   "metadata": {},
   "outputs": [],
   "source": [
    "\n",
    "df = df.merge(mean_bygroup, on=[\"State\", \"City\", \"Year\", \"Month\", \"Day\"], how=\"left\", suffixes=(\"\", \"_mean\"))\n",
    "\n",
    "#I fill with a mean value at least 1526 values \n",
    "\n"
   ]
  },
  {
   "cell_type": "code",
   "execution_count": 256,
   "metadata": {},
   "outputs": [
    {
     "name": "stdout",
     "output_type": "stream",
     "text": [
      "<class 'pandas.core.frame.DataFrame'>\n",
      "RangeIndex: 289146 entries, 0 to 289145\n",
      "Data columns (total 8 columns):\n",
      " #   Column                   Non-Null Count   Dtype  \n",
      "---  ------                   --------------   -----  \n",
      " 0   State                    289146 non-null  object \n",
      " 1   City                     289146 non-null  object \n",
      " 2   Year                     289146 non-null  int64  \n",
      " 3   Month                    289146 non-null  int64  \n",
      " 4   Day                      289146 non-null  int64  \n",
      " 5   Store type               289146 non-null  object \n",
      " 6   Price per kilogram       282756 non-null  float64\n",
      " 7   Price per kilogram_mean  282845 non-null  float64\n",
      "dtypes: float64(2), int64(3), object(3)\n",
      "memory usage: 17.6+ MB\n"
     ]
    }
   ],
   "source": [
    "df.info()"
   ]
  },
  {
   "cell_type": "code",
   "execution_count": 257,
   "metadata": {},
   "outputs": [],
   "source": [
    "df=df.drop(columns= [\"Price per kilogram_mean\"])\n"
   ]
  },
  {
   "cell_type": "code",
   "execution_count": 258,
   "metadata": {},
   "outputs": [
    {
     "data": {
      "text/plain": [
       "0"
      ]
     },
     "execution_count": 258,
     "metadata": {},
     "output_type": "execute_result"
    }
   ],
   "source": [
    "duplicates= df.duplicated().sum()\n",
    "duplicates\n",
    "\n",
    "#we dont have duplicates"
   ]
  },
  {
   "cell_type": "markdown",
   "metadata": {},
   "source": [
    "now I need to think if I delete this values that are missing"
   ]
  },
  {
   "cell_type": "code",
   "execution_count": 259,
   "metadata": {},
   "outputs": [
    {
     "data": {
      "text/plain": [
       "City\n",
       "Aguascalientes           5368\n",
       "Tepic                    5368\n",
       "Mexicali                 5368\n",
       "Oaxaca                   5368\n",
       "Puebla                   5368\n",
       "Querétaro                5368\n",
       "Cancún                   5368\n",
       "Chetumal                 5368\n",
       "San Luis Potosí          5368\n",
       "Culiacán                 5368\n",
       "Cd. Obregón              5368\n",
       "Hermosillo               5368\n",
       "Nogales                  5368\n",
       "Villahermosa             5368\n",
       "Cd. Victoria             5368\n",
       "Matamoros                5368\n",
       "Nuevo Laredo             5368\n",
       "Reynosa                  5368\n",
       "Tampico                  5368\n",
       "Tlaxcala                 5368\n",
       "Coatzacoalcos            5368\n",
       "Veracruz                 5368\n",
       "Xalapa                   5368\n",
       "Mérida                   5368\n",
       "Zacatecas                5368\n",
       "Monterrey                5368\n",
       "ZM Monterrey             5368\n",
       "Cuernavaca               5368\n",
       "ZM D.F.                  5368\n",
       "Tijuana                  5368\n",
       "La Paz                   5368\n",
       "Campeche                 5368\n",
       "Piedras Negras           5368\n",
       "Saltillo                 5368\n",
       "Colima                   5368\n",
       "Tapachula                5368\n",
       "Tuxtla Gutiérrez         5368\n",
       "Chihuahua                5368\n",
       "Cd. Juárez               5368\n",
       "Morelia                  5368\n",
       "D.F.                     5368\n",
       "Durango                  5368\n",
       "León                     5368\n",
       "Acapulco                 5368\n",
       "Chilpancingo             5368\n",
       "Pachuca                  5368\n",
       "Guadalajara              5368\n",
       "ZM Guadalajara           5368\n",
       "Toluca                   5368\n",
       "ZM Puebla                4911\n",
       "Gómez Palacio            4612\n",
       "Torreón                  3856\n",
       "Celaya                   3856\n",
       "Irapuato                 3777\n",
       "Poza Rica                3038\n",
       "San Luis Río Colorado    2064\n",
       "Name: count, dtype: int64"
      ]
     },
     "execution_count": 259,
     "metadata": {},
     "output_type": "execute_result"
    }
   ],
   "source": [
    "df[\"City\"].value_counts()"
   ]
  },
  {
   "cell_type": "markdown",
   "metadata": {},
   "source": [
    "#this has different numbers. we need to see if the Nan belong to them. \n",
    "ZM Puebla                4911\n",
    "Gómez Palacio            4612\n",
    "Torreón                  3856\n",
    "Celaya                   3856\n",
    "Irapuato                 3777\n",
    "Poza Rica                3038\n",
    "San Luis Río Colorado    2064\n",
    "\n",
    "#vi la cantidad de valores que hay por cada ciudad, casi todos tienen 5368. pero estos no  ZM Puebla                4911\n",
    "Gómez Palacio            4612\n",
    "Torreón                  3856\n",
    "Celaya                   3856\n",
    "Irapuato                 3777\n",
    "Poza Rica                3038\n",
    "San Luis Río Colorado    2064\n",
    "\n",
    "celaya tiene #126 rows Null e  irapuato 166. los demas no tienen. entonces deberia de eleimar los datos nulos en general? o que cado con mis missing values. no, no quiero interpolar"
   ]
  },
  {
   "cell_type": "code",
   "execution_count": 260,
   "metadata": {},
   "outputs": [
    {
     "data": {
      "text/html": [
       "<div>\n",
       "<style scoped>\n",
       "    .dataframe tbody tr th:only-of-type {\n",
       "        vertical-align: middle;\n",
       "    }\n",
       "\n",
       "    .dataframe tbody tr th {\n",
       "        vertical-align: top;\n",
       "    }\n",
       "\n",
       "    .dataframe thead th {\n",
       "        text-align: right;\n",
       "    }\n",
       "</style>\n",
       "<table border=\"1\" class=\"dataframe\">\n",
       "  <thead>\n",
       "    <tr style=\"text-align: right;\">\n",
       "      <th></th>\n",
       "      <th>State</th>\n",
       "      <th>City</th>\n",
       "      <th>Year</th>\n",
       "      <th>Month</th>\n",
       "      <th>Day</th>\n",
       "      <th>Store type</th>\n",
       "      <th>Price per kilogram</th>\n",
       "    </tr>\n",
       "  </thead>\n",
       "  <tbody>\n",
       "  </tbody>\n",
       "</table>\n",
       "</div>"
      ],
      "text/plain": [
       "Empty DataFrame\n",
       "Columns: [State, City, Year, Month, Day, Store type, Price per kilogram]\n",
       "Index: []"
      ]
     },
     "execution_count": 260,
     "metadata": {},
     "output_type": "execute_result"
    }
   ],
   "source": [
    "\n",
    "df_filter = df[(df[\"City\"] == \"Torreon\") & (df[\"Price per kilogram\"].isna())]\n",
    "\n",
    "\n",
    "df_filter\n",
    "\n",
    "#no null values "
   ]
  },
  {
   "cell_type": "code",
   "execution_count": 261,
   "metadata": {},
   "outputs": [
    {
     "data": {
      "text/html": [
       "<div>\n",
       "<style scoped>\n",
       "    .dataframe tbody tr th:only-of-type {\n",
       "        vertical-align: middle;\n",
       "    }\n",
       "\n",
       "    .dataframe tbody tr th {\n",
       "        vertical-align: top;\n",
       "    }\n",
       "\n",
       "    .dataframe thead th {\n",
       "        text-align: right;\n",
       "    }\n",
       "</style>\n",
       "<table border=\"1\" class=\"dataframe\">\n",
       "  <thead>\n",
       "    <tr style=\"text-align: right;\">\n",
       "      <th></th>\n",
       "      <th>State</th>\n",
       "      <th>City</th>\n",
       "      <th>Year</th>\n",
       "      <th>Month</th>\n",
       "      <th>Day</th>\n",
       "      <th>Store type</th>\n",
       "      <th>Price per kilogram</th>\n",
       "    </tr>\n",
       "  </thead>\n",
       "  <tbody>\n",
       "  </tbody>\n",
       "</table>\n",
       "</div>"
      ],
      "text/plain": [
       "Empty DataFrame\n",
       "Columns: [State, City, Year, Month, Day, Store type, Price per kilogram]\n",
       "Index: []"
      ]
     },
     "execution_count": 261,
     "metadata": {},
     "output_type": "execute_result"
    }
   ],
   "source": [
    "df_filter= df[(df[\"City\"]== \"Gómez Palacio\") & (df[\"Price per kilogram\"].isna())]\n",
    "\n",
    "df_filter"
   ]
  },
  {
   "cell_type": "code",
   "execution_count": 262,
   "metadata": {},
   "outputs": [
    {
     "data": {
      "text/html": [
       "<div>\n",
       "<style scoped>\n",
       "    .dataframe tbody tr th:only-of-type {\n",
       "        vertical-align: middle;\n",
       "    }\n",
       "\n",
       "    .dataframe tbody tr th {\n",
       "        vertical-align: top;\n",
       "    }\n",
       "\n",
       "    .dataframe thead th {\n",
       "        text-align: right;\n",
       "    }\n",
       "</style>\n",
       "<table border=\"1\" class=\"dataframe\">\n",
       "  <thead>\n",
       "    <tr style=\"text-align: right;\">\n",
       "      <th></th>\n",
       "      <th>State</th>\n",
       "      <th>City</th>\n",
       "      <th>Year</th>\n",
       "      <th>Month</th>\n",
       "      <th>Day</th>\n",
       "      <th>Store type</th>\n",
       "      <th>Price per kilogram</th>\n",
       "    </tr>\n",
       "  </thead>\n",
       "  <tbody>\n",
       "    <tr>\n",
       "      <th>81861</th>\n",
       "      <td>Guanajuato</td>\n",
       "      <td>Celaya</td>\n",
       "      <td>2012</td>\n",
       "      <td>5</td>\n",
       "      <td>15</td>\n",
       "      <td>Mom and Pop Store</td>\n",
       "      <td>NaN</td>\n",
       "    </tr>\n",
       "    <tr>\n",
       "      <th>82533</th>\n",
       "      <td>Guanajuato</td>\n",
       "      <td>Celaya</td>\n",
       "      <td>2012</td>\n",
       "      <td>6</td>\n",
       "      <td>9</td>\n",
       "      <td>Mom and Pop Store</td>\n",
       "      <td>NaN</td>\n",
       "    </tr>\n",
       "    <tr>\n",
       "      <th>86397</th>\n",
       "      <td>Guanajuato</td>\n",
       "      <td>Celaya</td>\n",
       "      <td>2012</td>\n",
       "      <td>11</td>\n",
       "      <td>19</td>\n",
       "      <td>Mom and Pop Store</td>\n",
       "      <td>NaN</td>\n",
       "    </tr>\n",
       "    <tr>\n",
       "      <th>90541</th>\n",
       "      <td>Guanajuato</td>\n",
       "      <td>Celaya</td>\n",
       "      <td>2012</td>\n",
       "      <td>5</td>\n",
       "      <td>15</td>\n",
       "      <td>Big Retail Store</td>\n",
       "      <td>NaN</td>\n",
       "    </tr>\n",
       "    <tr>\n",
       "      <th>91213</th>\n",
       "      <td>Guanajuato</td>\n",
       "      <td>Celaya</td>\n",
       "      <td>2012</td>\n",
       "      <td>6</td>\n",
       "      <td>9</td>\n",
       "      <td>Big Retail Store</td>\n",
       "      <td>NaN</td>\n",
       "    </tr>\n",
       "    <tr>\n",
       "      <th>...</th>\n",
       "      <td>...</td>\n",
       "      <td>...</td>\n",
       "      <td>...</td>\n",
       "      <td>...</td>\n",
       "      <td>...</td>\n",
       "      <td>...</td>\n",
       "      <td>...</td>\n",
       "    </tr>\n",
       "    <tr>\n",
       "      <th>237162</th>\n",
       "      <td>Guanajuato</td>\n",
       "      <td>Celaya</td>\n",
       "      <td>2021</td>\n",
       "      <td>2</td>\n",
       "      <td>17</td>\n",
       "      <td>Big Retail Store</td>\n",
       "      <td>NaN</td>\n",
       "    </tr>\n",
       "    <tr>\n",
       "      <th>237215</th>\n",
       "      <td>Guanajuato</td>\n",
       "      <td>Celaya</td>\n",
       "      <td>2021</td>\n",
       "      <td>2</td>\n",
       "      <td>19</td>\n",
       "      <td>Big Retail Store</td>\n",
       "      <td>NaN</td>\n",
       "    </tr>\n",
       "    <tr>\n",
       "      <th>237268</th>\n",
       "      <td>Guanajuato</td>\n",
       "      <td>Celaya</td>\n",
       "      <td>2021</td>\n",
       "      <td>2</td>\n",
       "      <td>22</td>\n",
       "      <td>Big Retail Store</td>\n",
       "      <td>NaN</td>\n",
       "    </tr>\n",
       "    <tr>\n",
       "      <th>237321</th>\n",
       "      <td>Guanajuato</td>\n",
       "      <td>Celaya</td>\n",
       "      <td>2021</td>\n",
       "      <td>2</td>\n",
       "      <td>24</td>\n",
       "      <td>Big Retail Store</td>\n",
       "      <td>NaN</td>\n",
       "    </tr>\n",
       "    <tr>\n",
       "      <th>237374</th>\n",
       "      <td>Guanajuato</td>\n",
       "      <td>Celaya</td>\n",
       "      <td>2021</td>\n",
       "      <td>2</td>\n",
       "      <td>26</td>\n",
       "      <td>Big Retail Store</td>\n",
       "      <td>NaN</td>\n",
       "    </tr>\n",
       "  </tbody>\n",
       "</table>\n",
       "<p>148 rows × 7 columns</p>\n",
       "</div>"
      ],
      "text/plain": [
       "             State    City  Year  Month  Day         Store type  \\\n",
       "81861   Guanajuato  Celaya  2012      5   15  Mom and Pop Store   \n",
       "82533   Guanajuato  Celaya  2012      6    9  Mom and Pop Store   \n",
       "86397   Guanajuato  Celaya  2012     11   19  Mom and Pop Store   \n",
       "90541   Guanajuato  Celaya  2012      5   15   Big Retail Store   \n",
       "91213   Guanajuato  Celaya  2012      6    9   Big Retail Store   \n",
       "...            ...     ...   ...    ...  ...                ...   \n",
       "237162  Guanajuato  Celaya  2021      2   17   Big Retail Store   \n",
       "237215  Guanajuato  Celaya  2021      2   19   Big Retail Store   \n",
       "237268  Guanajuato  Celaya  2021      2   22   Big Retail Store   \n",
       "237321  Guanajuato  Celaya  2021      2   24   Big Retail Store   \n",
       "237374  Guanajuato  Celaya  2021      2   26   Big Retail Store   \n",
       "\n",
       "        Price per kilogram  \n",
       "81861                  NaN  \n",
       "82533                  NaN  \n",
       "86397                  NaN  \n",
       "90541                  NaN  \n",
       "91213                  NaN  \n",
       "...                    ...  \n",
       "237162                 NaN  \n",
       "237215                 NaN  \n",
       "237268                 NaN  \n",
       "237321                 NaN  \n",
       "237374                 NaN  \n",
       "\n",
       "[148 rows x 7 columns]"
      ]
     },
     "execution_count": 262,
     "metadata": {},
     "output_type": "execute_result"
    }
   ],
   "source": [
    "df_filter= df[(df[\"City\"]== \"Celaya\") & (df[\"Price per kilogram\"].isna())]\n",
    "\n",
    "df_filter\n",
    "\n",
    "\n",
    "#126 rows Null "
   ]
  },
  {
   "cell_type": "code",
   "execution_count": 263,
   "metadata": {},
   "outputs": [
    {
     "data": {
      "text/html": [
       "<div>\n",
       "<style scoped>\n",
       "    .dataframe tbody tr th:only-of-type {\n",
       "        vertical-align: middle;\n",
       "    }\n",
       "\n",
       "    .dataframe tbody tr th {\n",
       "        vertical-align: top;\n",
       "    }\n",
       "\n",
       "    .dataframe thead th {\n",
       "        text-align: right;\n",
       "    }\n",
       "</style>\n",
       "<table border=\"1\" class=\"dataframe\">\n",
       "  <thead>\n",
       "    <tr style=\"text-align: right;\">\n",
       "      <th></th>\n",
       "      <th>State</th>\n",
       "      <th>City</th>\n",
       "      <th>Year</th>\n",
       "      <th>Month</th>\n",
       "      <th>Day</th>\n",
       "      <th>Store type</th>\n",
       "      <th>Price per kilogram</th>\n",
       "    </tr>\n",
       "  </thead>\n",
       "  <tbody>\n",
       "    <tr>\n",
       "      <th>16</th>\n",
       "      <td>Guanajuato</td>\n",
       "      <td>Irapuato</td>\n",
       "      <td>2007</td>\n",
       "      <td>1</td>\n",
       "      <td>10</td>\n",
       "      <td>Mom and Pop Store</td>\n",
       "      <td>NaN</td>\n",
       "    </tr>\n",
       "    <tr>\n",
       "      <th>69</th>\n",
       "      <td>Guanajuato</td>\n",
       "      <td>Irapuato</td>\n",
       "      <td>2007</td>\n",
       "      <td>1</td>\n",
       "      <td>12</td>\n",
       "      <td>Mom and Pop Store</td>\n",
       "      <td>NaN</td>\n",
       "    </tr>\n",
       "    <tr>\n",
       "      <th>122</th>\n",
       "      <td>Guanajuato</td>\n",
       "      <td>Irapuato</td>\n",
       "      <td>2007</td>\n",
       "      <td>1</td>\n",
       "      <td>15</td>\n",
       "      <td>Mom and Pop Store</td>\n",
       "      <td>NaN</td>\n",
       "    </tr>\n",
       "    <tr>\n",
       "      <th>175</th>\n",
       "      <td>Guanajuato</td>\n",
       "      <td>Irapuato</td>\n",
       "      <td>2007</td>\n",
       "      <td>1</td>\n",
       "      <td>16</td>\n",
       "      <td>Mom and Pop Store</td>\n",
       "      <td>NaN</td>\n",
       "    </tr>\n",
       "    <tr>\n",
       "      <th>228</th>\n",
       "      <td>Guanajuato</td>\n",
       "      <td>Irapuato</td>\n",
       "      <td>2007</td>\n",
       "      <td>1</td>\n",
       "      <td>17</td>\n",
       "      <td>Mom and Pop Store</td>\n",
       "      <td>NaN</td>\n",
       "    </tr>\n",
       "    <tr>\n",
       "      <th>...</th>\n",
       "      <td>...</td>\n",
       "      <td>...</td>\n",
       "      <td>...</td>\n",
       "      <td>...</td>\n",
       "      <td>...</td>\n",
       "      <td>...</td>\n",
       "      <td>...</td>\n",
       "    </tr>\n",
       "    <tr>\n",
       "      <th>212460</th>\n",
       "      <td>Guanajuato</td>\n",
       "      <td>Irapuato</td>\n",
       "      <td>2019</td>\n",
       "      <td>12</td>\n",
       "      <td>18</td>\n",
       "      <td>Big Retail Store</td>\n",
       "      <td>NaN</td>\n",
       "    </tr>\n",
       "    <tr>\n",
       "      <th>212514</th>\n",
       "      <td>Guanajuato</td>\n",
       "      <td>Irapuato</td>\n",
       "      <td>2019</td>\n",
       "      <td>12</td>\n",
       "      <td>20</td>\n",
       "      <td>Big Retail Store</td>\n",
       "      <td>NaN</td>\n",
       "    </tr>\n",
       "    <tr>\n",
       "      <th>212568</th>\n",
       "      <td>Guanajuato</td>\n",
       "      <td>Irapuato</td>\n",
       "      <td>2019</td>\n",
       "      <td>12</td>\n",
       "      <td>23</td>\n",
       "      <td>Big Retail Store</td>\n",
       "      <td>NaN</td>\n",
       "    </tr>\n",
       "    <tr>\n",
       "      <th>212622</th>\n",
       "      <td>Guanajuato</td>\n",
       "      <td>Irapuato</td>\n",
       "      <td>2019</td>\n",
       "      <td>12</td>\n",
       "      <td>27</td>\n",
       "      <td>Big Retail Store</td>\n",
       "      <td>NaN</td>\n",
       "    </tr>\n",
       "    <tr>\n",
       "      <th>212676</th>\n",
       "      <td>Guanajuato</td>\n",
       "      <td>Irapuato</td>\n",
       "      <td>2019</td>\n",
       "      <td>12</td>\n",
       "      <td>30</td>\n",
       "      <td>Big Retail Store</td>\n",
       "      <td>NaN</td>\n",
       "    </tr>\n",
       "  </tbody>\n",
       "</table>\n",
       "<p>281 rows × 7 columns</p>\n",
       "</div>"
      ],
      "text/plain": [
       "             State      City  Year  Month  Day         Store type  \\\n",
       "16      Guanajuato  Irapuato  2007      1   10  Mom and Pop Store   \n",
       "69      Guanajuato  Irapuato  2007      1   12  Mom and Pop Store   \n",
       "122     Guanajuato  Irapuato  2007      1   15  Mom and Pop Store   \n",
       "175     Guanajuato  Irapuato  2007      1   16  Mom and Pop Store   \n",
       "228     Guanajuato  Irapuato  2007      1   17  Mom and Pop Store   \n",
       "...            ...       ...   ...    ...  ...                ...   \n",
       "212460  Guanajuato  Irapuato  2019     12   18   Big Retail Store   \n",
       "212514  Guanajuato  Irapuato  2019     12   20   Big Retail Store   \n",
       "212568  Guanajuato  Irapuato  2019     12   23   Big Retail Store   \n",
       "212622  Guanajuato  Irapuato  2019     12   27   Big Retail Store   \n",
       "212676  Guanajuato  Irapuato  2019     12   30   Big Retail Store   \n",
       "\n",
       "        Price per kilogram  \n",
       "16                     NaN  \n",
       "69                     NaN  \n",
       "122                    NaN  \n",
       "175                    NaN  \n",
       "228                    NaN  \n",
       "...                    ...  \n",
       "212460                 NaN  \n",
       "212514                 NaN  \n",
       "212568                 NaN  \n",
       "212622                 NaN  \n",
       "212676                 NaN  \n",
       "\n",
       "[281 rows x 7 columns]"
      ]
     },
     "execution_count": 263,
     "metadata": {},
     "output_type": "execute_result"
    }
   ],
   "source": [
    "df_filter= df[(df[\"City\"]== \"Irapuato\") & (df[\"Price per kilogram\"].isna())]\n",
    "\n",
    "df_filter\n",
    "\n",
    "\n",
    "#166 nulls"
   ]
  },
  {
   "cell_type": "code",
   "execution_count": null,
   "metadata": {},
   "outputs": [],
   "source": [
    "\n"
   ]
  },
  {
   "cell_type": "markdown",
   "metadata": {},
   "source": [
    "the null values varies in dates so I decided to delete the null values :)"
   ]
  },
  {
   "cell_type": "code",
   "execution_count": 264,
   "metadata": {},
   "outputs": [],
   "source": [
    "df.dropna(subset=[\"Price per kilogram\"], inplace=True)"
   ]
  },
  {
   "cell_type": "code",
   "execution_count": 265,
   "metadata": {},
   "outputs": [
    {
     "name": "stdout",
     "output_type": "stream",
     "text": [
      "<class 'pandas.core.frame.DataFrame'>\n",
      "Index: 282756 entries, 0 to 289145\n",
      "Data columns (total 7 columns):\n",
      " #   Column              Non-Null Count   Dtype  \n",
      "---  ------              --------------   -----  \n",
      " 0   State               282756 non-null  object \n",
      " 1   City                282756 non-null  object \n",
      " 2   Year                282756 non-null  int64  \n",
      " 3   Month               282756 non-null  int64  \n",
      " 4   Day                 282756 non-null  int64  \n",
      " 5   Store type          282756 non-null  object \n",
      " 6   Price per kilogram  282756 non-null  float64\n",
      "dtypes: float64(1), int64(3), object(3)\n",
      "memory usage: 17.3+ MB\n"
     ]
    }
   ],
   "source": [
    "df.info()"
   ]
  },
  {
   "cell_type": "code",
   "execution_count": 266,
   "metadata": {},
   "outputs": [
    {
     "data": {
      "text/plain": [
       "array(['Aguascalientes', 'Baja\\xa0California',\n",
       "       'Baja\\xa0California\\xa0Sur', 'Campeche', 'Coahuila', 'Colima',\n",
       "       'Chiapas', 'Chihuahua', 'D.F.', 'Durango', 'Guanajuato',\n",
       "       'Guerrero', 'Hidalgo', 'Jalisco', 'Edo.\\xa0México', 'Michoacán',\n",
       "       'Morelos', 'Nayarit', 'Nuevo\\xa0León', 'Oaxaca', 'Puebla',\n",
       "       'Querétaro', 'Quintana\\xa0Roo', 'San\\xa0Luis\\xa0Potosí', 'Sinaloa',\n",
       "       'Sonora', 'Tabasco', 'Tamaulipas', 'Tlaxcala', 'Veracruz',\n",
       "       'Yucatán', 'Zacatecas'], dtype=object)"
      ]
     },
     "execution_count": 266,
     "metadata": {},
     "output_type": "execute_result"
    }
   ],
   "source": [
    "df[\"State\"].unique()\n"
   ]
  },
  {
   "cell_type": "code",
   "execution_count": 267,
   "metadata": {},
   "outputs": [],
   "source": [
    "df[\"State\"]= df[\"State\"].replace(\"D.F.\", \"CDMX\")"
   ]
  },
  {
   "cell_type": "code",
   "execution_count": 268,
   "metadata": {},
   "outputs": [
    {
     "data": {
      "text/plain": [
       "array(['Aguascalientes', 'Baja\\xa0California',\n",
       "       'Baja\\xa0California\\xa0Sur', 'Campeche', 'Coahuila', 'Colima',\n",
       "       'Chiapas', 'Chihuahua', 'CDMX', 'Durango', 'Guanajuato',\n",
       "       'Guerrero', 'Hidalgo', 'Jalisco', 'Edo.\\xa0México', 'Michoacán',\n",
       "       'Morelos', 'Nayarit', 'Nuevo\\xa0León', 'Oaxaca', 'Puebla',\n",
       "       'Querétaro', 'Quintana\\xa0Roo', 'San\\xa0Luis\\xa0Potosí', 'Sinaloa',\n",
       "       'Sonora', 'Tabasco', 'Tamaulipas', 'Tlaxcala', 'Veracruz',\n",
       "       'Yucatán', 'Zacatecas'], dtype=object)"
      ]
     },
     "execution_count": 268,
     "metadata": {},
     "output_type": "execute_result"
    }
   ],
   "source": [
    "df[\"State\"].unique()"
   ]
  },
  {
   "cell_type": "code",
   "execution_count": 269,
   "metadata": {},
   "outputs": [
    {
     "data": {
      "text/plain": [
       "32"
      ]
     },
     "execution_count": 269,
     "metadata": {},
     "output_type": "execute_result"
    }
   ],
   "source": [
    "distinct_states = df[\"State\"].nunique()\n",
    "distinct_states"
   ]
  },
  {
   "cell_type": "code",
   "execution_count": 270,
   "metadata": {},
   "outputs": [
    {
     "data": {
      "text/plain": [
       "array(['Aguascalientes', 'Tijuana', 'La\\xa0Paz', 'Campeche',\n",
       "       'Piedras\\xa0Negras', 'Colima', 'Tuxtla\\xa0Gutiérrez', 'Chihuahua',\n",
       "       'D.F.', 'ZM\\xa0D.F.', 'Durango', 'León', 'Acapulco', 'Pachuca',\n",
       "       'Guadalajara', 'Toluca', 'Morelia', 'Cuernavaca', 'Tepic',\n",
       "       'Monterrey', 'Oaxaca', 'Puebla', 'Querétaro', 'Cancún', 'Chetumal',\n",
       "       'San\\xa0Luis\\xa0Potosí', 'Culiacán', 'Cd.\\xa0Obregón',\n",
       "       'Hermosillo', 'Villahermosa', 'Cd.\\xa0Victoria', 'Tlaxcala',\n",
       "       'Coatzacoalcos', 'Poza\\xa0Rica', 'Veracruz', 'Xalapa', 'Mérida',\n",
       "       'Zacatecas', 'Matamoros', 'Nuevo\\xa0Laredo', 'Reynosa', 'Mexicali',\n",
       "       'Saltillo', 'Tapachula', 'Cd.\\xa0Juárez', 'Gómez\\xa0Palacio',\n",
       "       'Irapuato', 'Chilpancingo', 'ZM\\xa0Guadalajara', 'ZM\\xa0Monterrey',\n",
       "       'ZM\\xa0Puebla', 'Nogales', 'Tampico', 'Torreón', 'Celaya',\n",
       "       'San\\xa0Luis\\xa0Río\\xa0Colorado'], dtype=object)"
      ]
     },
     "execution_count": 270,
     "metadata": {},
     "output_type": "execute_result"
    }
   ],
   "source": [
    "df[\"City\"].unique()"
   ]
  },
  {
   "cell_type": "code",
   "execution_count": 271,
   "metadata": {},
   "outputs": [
    {
     "data": {
      "text/plain": [
       "State\n",
       "Aguascalientes         1\n",
       "Baja California        2\n",
       "Baja California Sur    1\n",
       "CDMX                   2\n",
       "Campeche               1\n",
       "Chiapas                2\n",
       "Chihuahua              2\n",
       "Coahuila               3\n",
       "Colima                 1\n",
       "Durango                2\n",
       "Edo. México            1\n",
       "Guanajuato             3\n",
       "Guerrero               2\n",
       "Hidalgo                1\n",
       "Jalisco                2\n",
       "Michoacán              1\n",
       "Morelos                1\n",
       "Nayarit                1\n",
       "Nuevo León             2\n",
       "Oaxaca                 1\n",
       "Puebla                 2\n",
       "Querétaro              1\n",
       "Quintana Roo           2\n",
       "San Luis Potosí        1\n",
       "Sinaloa                1\n",
       "Sonora                 4\n",
       "Tabasco                1\n",
       "Tamaulipas             5\n",
       "Tlaxcala               1\n",
       "Veracruz               4\n",
       "Yucatán                1\n",
       "Zacatecas              1\n",
       "Name: City, dtype: int64"
      ]
     },
     "execution_count": 271,
     "metadata": {},
     "output_type": "execute_result"
    }
   ],
   "source": [
    "total_cities= df.groupby(\"State\")[\"City\"].nunique()\n",
    "total_cities\n",
    "\n",
    "#tamaulipas hs more cities, Veracruz and Sonora "
   ]
  },
  {
   "cell_type": "code",
   "execution_count": 272,
   "metadata": {},
   "outputs": [
    {
     "data": {
      "text/plain": [
       "array([ 1,  2,  3,  4,  5,  6,  7,  8,  9, 10, 11, 12], dtype=int64)"
      ]
     },
     "execution_count": 272,
     "metadata": {},
     "output_type": "execute_result"
    }
   ],
   "source": [
    "df[\"Month\"].unique()"
   ]
  },
  {
   "cell_type": "code",
   "execution_count": 273,
   "metadata": {},
   "outputs": [],
   "source": [
    "df[\"Month\"] = df[\"Month\"].replace({\n",
    "    1: \"January\", \n",
    "    2: \"February\", \n",
    "    3: \"March\", \n",
    "    4: \"April\", \n",
    "    5: \"May\", \n",
    "    6: \"June\", \n",
    "    7: \"July\", \n",
    "    8: \"August\", \n",
    "    9: \"September\", \n",
    "    10: \"October\", \n",
    "    11: \"November\", \n",
    "    12: \"December\"\n",
    "})\n",
    "\n"
   ]
  },
  {
   "cell_type": "code",
   "execution_count": 274,
   "metadata": {},
   "outputs": [
    {
     "data": {
      "text/plain": [
       "array(['January', 'February', 'March', 'April', 'May', 'June', 'July',\n",
       "       'August', 'September', 'October', 'November', 'December'],\n",
       "      dtype=object)"
      ]
     },
     "execution_count": 274,
     "metadata": {},
     "output_type": "execute_result"
    }
   ],
   "source": [
    "df[\"Month\"].unique()"
   ]
  },
  {
   "cell_type": "code",
   "execution_count": 275,
   "metadata": {},
   "outputs": [
    {
     "data": {
      "text/plain": [
       "array(['Mom and Pop Store', 'Big Retail Store'], dtype=object)"
      ]
     },
     "execution_count": 275,
     "metadata": {},
     "output_type": "execute_result"
    }
   ],
   "source": [
    "df[\"Store type\"].unique()"
   ]
  },
  {
   "cell_type": "code",
   "execution_count": 276,
   "metadata": {},
   "outputs": [
    {
     "data": {
      "text/plain": [
       "array(['Mom and Pop Store', 'Big Retail Store'], dtype=object)"
      ]
     },
     "execution_count": 276,
     "metadata": {},
     "output_type": "execute_result"
    }
   ],
   "source": [
    "df[\"Store type\"].unique()"
   ]
  },
  {
   "cell_type": "code",
   "execution_count": 277,
   "metadata": {},
   "outputs": [],
   "source": [
    "df[\"Store type\"] = df[\"Store type\"].replace('Mom and Pop Store',\"Small Independent Store\")\n",
    "\n"
   ]
  },
  {
   "cell_type": "code",
   "execution_count": 278,
   "metadata": {},
   "outputs": [
    {
     "data": {
      "text/plain": [
       "array(['Small Independent Store', 'Big Retail Store'], dtype=object)"
      ]
     },
     "execution_count": 278,
     "metadata": {},
     "output_type": "execute_result"
    }
   ],
   "source": [
    "df[\"Store type\"].unique()"
   ]
  },
  {
   "cell_type": "markdown",
   "metadata": {},
   "source": [
    "bar char for the change of prioce between time \n",
    "\n",
    "maybe the biggest price by n 5 nd the lowest (mena?)\n",
    "\n",
    "maybe another for the types of store (pie chart about this )"
   ]
  },
  {
   "cell_type": "code",
   "execution_count": 279,
   "metadata": {},
   "outputs": [
    {
     "data": {
      "image/png": "[encoded data removed]",
      "text/plain": [
       "<Figure size 640x480 with 1 Axes>"
      ]
     },
     "metadata": {},
     "output_type": "display_data"
    }
   ],
   "source": [
    "import matplotlib.pyplot as plt\n",
    "\n",
    "mean_year = df.groupby(\"Year\")[\"Price per kilogram\"].mean()\n",
    "\n",
    "colors=\"#D8BFD8\"\n",
    "plt.plot(mean_year.index, mean_year.values,color=colors)\n",
    "plt.xlabel('Year')\n",
    "plt.ylabel('Price per kilogram')\n",
    "plt.title('Average Price per Kilogram by Year')\n",
    "\n",
    "\n",
    "plt.xticks(mean_year.index[::2])  #stablish the values as int and with and interval \n",
    "\n",
    "plt.show()"
   ]
  },
  {
   "cell_type": "code",
   "execution_count": 280,
   "metadata": {},
   "outputs": [
    {
     "data": {
      "image/png": "[encoded data removed]",
      "text/plain": [
       "<Figure size 640x480 with 1 Axes>"
      ]
     },
     "metadata": {},
     "output_type": "display_data"
    }
   ],
   "source": [
    "import matplotlib.pyplot as plt\n",
    "\n",
    "mean_store= df.groupby(\"Store type\")[\"Price per kilogram\"].mean()\n",
    "\n",
    "colors=[\"#D8BFD8\", \"#E6E6FA\"] \n",
    "\n",
    "plt.pie(mean_store.values, labels=mean_store.index,colors=colors, autopct=\"%1.1f%%\", startangle=90) #write this\n",
    "\n",
    "plt.show()\n",
    "\n",
    "#this was a trial\n"
   ]
  },
  {
   "cell_type": "code",
   "execution_count": 281,
   "metadata": {},
   "outputs": [
    {
     "data": {
      "image/png": "[encoded data removed]",
      "text/plain": [
       "<Figure size 640x480 with 1 Axes>"
      ]
     },
     "metadata": {},
     "output_type": "display_data"
    }
   ],
   "source": [
    "import matplotlib.pyplot as plt\n",
    "\n",
    "colors= [\"#D8BFD8\", \"#E6E6FA\"] \n",
    "mean_store= df.groupby(\"Store type\")[\"Price per kilogram\"].mean()\n",
    "\n",
    "plt.bar(mean_store.index, mean_store.values,color=colors)\n",
    "\n",
    "plt.show()"
   ]
  },
  {
   "cell_type": "code",
   "execution_count": 282,
   "metadata": {},
   "outputs": [],
   "source": [
    "df.to_csv(\"tortilla_prices_updated.csv\", index=False, encoding=\"utf-8\")\n"
   ]
  },
  {
   "cell_type": "code",
   "execution_count": 283,
   "metadata": {},
   "outputs": [
    {
     "data": {
      "text/plain": [
       "array(['Aguascalientes', 'Baja\\xa0California',\n",
       "       'Baja\\xa0California\\xa0Sur', 'Campeche', 'Coahuila', 'Colima',\n",
       "       'Chiapas', 'Chihuahua', 'CDMX', 'Durango', 'Guanajuato',\n",
       "       'Guerrero', 'Hidalgo', 'Jalisco', 'Edo.\\xa0México', 'Michoacán',\n",
       "       'Morelos', 'Nayarit', 'Nuevo\\xa0León', 'Oaxaca', 'Puebla',\n",
       "       'Querétaro', 'Quintana\\xa0Roo', 'San\\xa0Luis\\xa0Potosí', 'Sinaloa',\n",
       "       'Sonora', 'Tabasco', 'Tamaulipas', 'Tlaxcala', 'Veracruz',\n",
       "       'Yucatán', 'Zacatecas'], dtype=object)"
      ]
     },
     "execution_count": 283,
     "metadata": {},
     "output_type": "execute_result"
    }
   ],
   "source": [
    "df[\"State\"].unique()"
   ]
  },
  {
   "cell_type": "code",
   "execution_count": 284,
   "metadata": {},
   "outputs": [
    {
     "data": {
      "text/plain": [
       "array(['Aguascalientes', 'Tijuana', 'La\\xa0Paz', 'Campeche',\n",
       "       'Piedras\\xa0Negras', 'Colima', 'Tuxtla\\xa0Gutiérrez', 'Chihuahua',\n",
       "       'D.F.', 'ZM\\xa0D.F.', 'Durango', 'León', 'Acapulco', 'Pachuca',\n",
       "       'Guadalajara', 'Toluca', 'Morelia', 'Cuernavaca', 'Tepic',\n",
       "       'Monterrey', 'Oaxaca', 'Puebla', 'Querétaro', 'Cancún', 'Chetumal',\n",
       "       'San\\xa0Luis\\xa0Potosí', 'Culiacán', 'Cd.\\xa0Obregón',\n",
       "       'Hermosillo', 'Villahermosa', 'Cd.\\xa0Victoria', 'Tlaxcala',\n",
       "       'Coatzacoalcos', 'Poza\\xa0Rica', 'Veracruz', 'Xalapa', 'Mérida',\n",
       "       'Zacatecas', 'Matamoros', 'Nuevo\\xa0Laredo', 'Reynosa', 'Mexicali',\n",
       "       'Saltillo', 'Tapachula', 'Cd.\\xa0Juárez', 'Gómez\\xa0Palacio',\n",
       "       'Irapuato', 'Chilpancingo', 'ZM\\xa0Guadalajara', 'ZM\\xa0Monterrey',\n",
       "       'ZM\\xa0Puebla', 'Nogales', 'Tampico', 'Torreón', 'Celaya',\n",
       "       'San\\xa0Luis\\xa0Río\\xa0Colorado'], dtype=object)"
      ]
     },
     "execution_count": 284,
     "metadata": {},
     "output_type": "execute_result"
    }
   ],
   "source": [
    "df[\"City\"].unique()\n",
    "\n",
    "#'Puebla', 'ZM\\xa0Puebla', ZM\\xa0Monterrey, ZM\\xa0Guadalajara,ZM\\xa0D.F., 'CDMX',"
   ]
  },
  {
   "cell_type": "code",
   "execution_count": 285,
   "metadata": {},
   "outputs": [],
   "source": [
    "df[\"City\"]= df[\"City\"].replace({\"ZM\\xa0D.F.\": \"CDMX\", \"ZM\\xa0Puebla\": \"Puebla\", \"ZM\\xa0Monterrey\": \"Monterrey\", \"ZM\\xa0Guadalajara\": \"Guadalajara\"})"
   ]
  },
  {
   "cell_type": "code",
   "execution_count": 286,
   "metadata": {},
   "outputs": [
    {
     "data": {
      "text/plain": [
       "array(['Aguascalientes', 'Tijuana', 'La\\xa0Paz', 'Campeche',\n",
       "       'Piedras\\xa0Negras', 'Colima', 'Tuxtla\\xa0Gutiérrez', 'Chihuahua',\n",
       "       'D.F.', 'CDMX', 'Durango', 'León', 'Acapulco', 'Pachuca',\n",
       "       'Guadalajara', 'Toluca', 'Morelia', 'Cuernavaca', 'Tepic',\n",
       "       'Monterrey', 'Oaxaca', 'Puebla', 'Querétaro', 'Cancún', 'Chetumal',\n",
       "       'San\\xa0Luis\\xa0Potosí', 'Culiacán', 'Cd.\\xa0Obregón',\n",
       "       'Hermosillo', 'Villahermosa', 'Cd.\\xa0Victoria', 'Tlaxcala',\n",
       "       'Coatzacoalcos', 'Poza\\xa0Rica', 'Veracruz', 'Xalapa', 'Mérida',\n",
       "       'Zacatecas', 'Matamoros', 'Nuevo\\xa0Laredo', 'Reynosa', 'Mexicali',\n",
       "       'Saltillo', 'Tapachula', 'Cd.\\xa0Juárez', 'Gómez\\xa0Palacio',\n",
       "       'Irapuato', 'Chilpancingo', 'Nogales', 'Tampico', 'Torreón',\n",
       "       'Celaya', 'San\\xa0Luis\\xa0Río\\xa0Colorado'], dtype=object)"
      ]
     },
     "execution_count": 286,
     "metadata": {},
     "output_type": "execute_result"
    }
   ],
   "source": [
    "df[\"City\"].unique()"
   ]
  },
  {
   "cell_type": "code",
   "execution_count": 287,
   "metadata": {},
   "outputs": [
    {
     "data": {
      "text/html": [
       "<div>\n",
       "<style scoped>\n",
       "    .dataframe tbody tr th:only-of-type {\n",
       "        vertical-align: middle;\n",
       "    }\n",
       "\n",
       "    .dataframe tbody tr th {\n",
       "        vertical-align: top;\n",
       "    }\n",
       "\n",
       "    .dataframe thead th {\n",
       "        text-align: right;\n",
       "    }\n",
       "</style>\n",
       "<table border=\"1\" class=\"dataframe\">\n",
       "  <thead>\n",
       "    <tr style=\"text-align: right;\">\n",
       "      <th></th>\n",
       "      <th>Price per kilogram</th>\n",
       "    </tr>\n",
       "    <tr>\n",
       "      <th>Year</th>\n",
       "      <th></th>\n",
       "    </tr>\n",
       "  </thead>\n",
       "  <tbody>\n",
       "    <tr>\n",
       "      <th>2007</th>\n",
       "      <td>7.399119</td>\n",
       "    </tr>\n",
       "    <tr>\n",
       "      <th>2008</th>\n",
       "      <td>7.598889</td>\n",
       "    </tr>\n",
       "    <tr>\n",
       "      <th>2009</th>\n",
       "      <td>8.094949</td>\n",
       "    </tr>\n",
       "    <tr>\n",
       "      <th>2010</th>\n",
       "      <td>8.670437</td>\n",
       "    </tr>\n",
       "    <tr>\n",
       "      <th>2011</th>\n",
       "      <td>9.737406</td>\n",
       "    </tr>\n",
       "    <tr>\n",
       "      <th>2012</th>\n",
       "      <td>11.265235</td>\n",
       "    </tr>\n",
       "    <tr>\n",
       "      <th>2013</th>\n",
       "      <td>11.710039</td>\n",
       "    </tr>\n",
       "    <tr>\n",
       "      <th>2014</th>\n",
       "      <td>11.619433</td>\n",
       "    </tr>\n",
       "    <tr>\n",
       "      <th>2015</th>\n",
       "      <td>11.632321</td>\n",
       "    </tr>\n",
       "    <tr>\n",
       "      <th>2016</th>\n",
       "      <td>11.855625</td>\n",
       "    </tr>\n",
       "    <tr>\n",
       "      <th>2017</th>\n",
       "      <td>12.520789</td>\n",
       "    </tr>\n",
       "    <tr>\n",
       "      <th>2018</th>\n",
       "      <td>12.892546</td>\n",
       "    </tr>\n",
       "    <tr>\n",
       "      <th>2019</th>\n",
       "      <td>13.419217</td>\n",
       "    </tr>\n",
       "    <tr>\n",
       "      <th>2020</th>\n",
       "      <td>14.033255</td>\n",
       "    </tr>\n",
       "    <tr>\n",
       "      <th>2021</th>\n",
       "      <td>15.273879</td>\n",
       "    </tr>\n",
       "    <tr>\n",
       "      <th>2022</th>\n",
       "      <td>17.333422</td>\n",
       "    </tr>\n",
       "    <tr>\n",
       "      <th>2023</th>\n",
       "      <td>19.007899</td>\n",
       "    </tr>\n",
       "    <tr>\n",
       "      <th>2024</th>\n",
       "      <td>19.564326</td>\n",
       "    </tr>\n",
       "  </tbody>\n",
       "</table>\n",
       "</div>"
      ],
      "text/plain": [
       "      Price per kilogram\n",
       "Year                    \n",
       "2007            7.399119\n",
       "2008            7.598889\n",
       "2009            8.094949\n",
       "2010            8.670437\n",
       "2011            9.737406\n",
       "2012           11.265235\n",
       "2013           11.710039\n",
       "2014           11.619433\n",
       "2015           11.632321\n",
       "2016           11.855625\n",
       "2017           12.520789\n",
       "2018           12.892546\n",
       "2019           13.419217\n",
       "2020           14.033255\n",
       "2021           15.273879\n",
       "2022           17.333422\n",
       "2023           19.007899\n",
       "2024           19.564326"
      ]
     },
     "execution_count": 287,
     "metadata": {},
     "output_type": "execute_result"
    }
   ],
   "source": [
    "pivot_table = df.pivot_table(values='Price per kilogram', index='Year', aggfunc='mean')\n",
    "pivot_table"
   ]
  }
 ],
 "metadata": {
  "kernelspec": {
   "display_name": "base",
   "language": "python",
   "name": "python3"
  },
  "language_info": {
   "codemirror_mode": {
    "name": "ipython",
    "version": 3
   },
   "file_extension": ".py",
   "mimetype": "text/x-python",
   "name": "python",
   "nbconvert_exporter": "python",
   "pygments_lexer": "ipython3",
   "version": "3.12.7"
  }
 },
 "nbformat": 4,
 "nbformat_minor": 2
}
